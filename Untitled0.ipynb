{
  "nbformat": 4,
  "nbformat_minor": 0,
  "metadata": {
    "colab": {
      "provenance": [],
      "authorship_tag": "ABX9TyOMBFZ1ZmKtk5RBVLOu/B/B",
      "include_colab_link": true
    },
    "kernelspec": {
      "name": "python3",
      "display_name": "Python 3"
    },
    "language_info": {
      "name": "python"
    }
  },
  "cells": [
    {
      "cell_type": "markdown",
      "metadata": {
        "id": "view-in-github",
        "colab_type": "text"
      },
      "source": [
        "<a href=\"https://colab.research.google.com/github/AlexaOstGB/-/blob/master/Untitled0.ipynb\" target=\"_parent\"><img src=\"https://colab.research.google.com/assets/colab-badge.svg\" alt=\"Open In Colab\"/></a>"
      ]
    },
    {
      "cell_type": "code",
      "execution_count": null,
      "metadata": {
        "id": "LM1sacEgcWVA"
      },
      "outputs": [],
      "source": [
        "import pandas as pd"
      ]
    },
    {
      "cell_type": "code",
      "source": [
        "import random\n",
        "lst = ['robot'] * 10\n",
        "lst += ['human'] * 10\n",
        "random.shuffle(lst)\n",
        "df = pd.DataFrame({'whoAmI':lst})\n",
        "\n",
        "whoAmIs = df['whoAmI'].unique()\n",
        "# Создаем столбцы\n",
        "for whoAmI in whoAmIs:\n",
        "    df[whoAmI] = (df['whoAmI'] == whoAmI).astype(int)\n",
        "# Удаляем исходный столбец, если он больше не нужен\n",
        "df.drop('whoAmI', axis=1, inplace=True)\n",
        "print(df)"
      ],
      "metadata": {
        "id": "vjCy3jxacbdS"
      },
      "execution_count": null,
      "outputs": []
    }
  ]
}